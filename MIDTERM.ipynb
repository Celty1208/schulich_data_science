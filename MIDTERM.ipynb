{
 "cells": [
  {
   "cell_type": "code",
   "execution_count": 2,
   "metadata": {},
   "outputs": [],
   "source": [
    "import pandas as pd\n",
    "import numpy as np\n",
    "import seaborn as sns\n",
    "import matplotlib as plt"
   ]
  },
  {
   "cell_type": "code",
   "execution_count": 3,
   "metadata": {},
   "outputs": [],
   "source": [
    "df = pd.read_csv('/Users/celty/Desktop/midterm_data.csv')\n"
   ]
  },
  {
   "cell_type": "code",
   "execution_count": 4,
   "metadata": {},
   "outputs": [
    {
     "data": {
      "text/html": [
       "<div>\n",
       "<style scoped>\n",
       "    .dataframe tbody tr th:only-of-type {\n",
       "        vertical-align: middle;\n",
       "    }\n",
       "\n",
       "    .dataframe tbody tr th {\n",
       "        vertical-align: top;\n",
       "    }\n",
       "\n",
       "    .dataframe thead th {\n",
       "        text-align: right;\n",
       "    }\n",
       "</style>\n",
       "<table border=\"1\" class=\"dataframe\">\n",
       "  <thead>\n",
       "    <tr style=\"text-align: right;\">\n",
       "      <th></th>\n",
       "      <th>userID</th>\n",
       "      <th>age</th>\n",
       "      <th>sessions</th>\n",
       "      <th>time_spent</th>\n",
       "      <th>pages_visited</th>\n",
       "      <th>cart_items</th>\n",
       "      <th>cart_value</th>\n",
       "      <th>checkout_status</th>\n",
       "      <th>device</th>\n",
       "      <th>location</th>\n",
       "    </tr>\n",
       "  </thead>\n",
       "  <tbody>\n",
       "    <tr>\n",
       "      <th>0</th>\n",
       "      <td>1</td>\n",
       "      <td>62</td>\n",
       "      <td>3</td>\n",
       "      <td>13.295129</td>\n",
       "      <td>2</td>\n",
       "      <td>20</td>\n",
       "      <td>199.21</td>\n",
       "      <td>0</td>\n",
       "      <td>Desktop</td>\n",
       "      <td>Location 1</td>\n",
       "    </tr>\n",
       "    <tr>\n",
       "      <th>1</th>\n",
       "      <td>2</td>\n",
       "      <td>65</td>\n",
       "      <td>2</td>\n",
       "      <td>21.686405</td>\n",
       "      <td>3</td>\n",
       "      <td>21</td>\n",
       "      <td>294.82</td>\n",
       "      <td>0</td>\n",
       "      <td>Desktop</td>\n",
       "      <td>Location 3</td>\n",
       "    </tr>\n",
       "    <tr>\n",
       "      <th>2</th>\n",
       "      <td>3</td>\n",
       "      <td>18</td>\n",
       "      <td>7</td>\n",
       "      <td>17.135220</td>\n",
       "      <td>4</td>\n",
       "      <td>23</td>\n",
       "      <td>240.87</td>\n",
       "      <td>0</td>\n",
       "      <td>Desktop</td>\n",
       "      <td>Location 4</td>\n",
       "    </tr>\n",
       "    <tr>\n",
       "      <th>3</th>\n",
       "      <td>4</td>\n",
       "      <td>21</td>\n",
       "      <td>9</td>\n",
       "      <td>29.589311</td>\n",
       "      <td>8</td>\n",
       "      <td>16</td>\n",
       "      <td>183.78</td>\n",
       "      <td>1</td>\n",
       "      <td>Desktop</td>\n",
       "      <td>Location 2</td>\n",
       "    </tr>\n",
       "    <tr>\n",
       "      <th>4</th>\n",
       "      <td>5</td>\n",
       "      <td>21</td>\n",
       "      <td>3</td>\n",
       "      <td>25.948584</td>\n",
       "      <td>4</td>\n",
       "      <td>10</td>\n",
       "      <td>59.51</td>\n",
       "      <td>1</td>\n",
       "      <td>Tablet</td>\n",
       "      <td>Location 4</td>\n",
       "    </tr>\n",
       "  </tbody>\n",
       "</table>\n",
       "</div>"
      ],
      "text/plain": [
       "   userID  age  sessions  time_spent  pages_visited  cart_items  cart_value   \n",
       "0       1   62         3   13.295129              2          20      199.21  \\\n",
       "1       2   65         2   21.686405              3          21      294.82   \n",
       "2       3   18         7   17.135220              4          23      240.87   \n",
       "3       4   21         9   29.589311              8          16      183.78   \n",
       "4       5   21         3   25.948584              4          10       59.51   \n",
       "\n",
       "   checkout_status   device    location  \n",
       "0                0  Desktop  Location 1  \n",
       "1                0  Desktop  Location 3  \n",
       "2                0  Desktop  Location 4  \n",
       "3                1  Desktop  Location 2  \n",
       "4                1   Tablet  Location 4  "
      ]
     },
     "execution_count": 4,
     "metadata": {},
     "output_type": "execute_result"
    }
   ],
   "source": [
    "df.head()"
   ]
  },
  {
   "cell_type": "code",
   "execution_count": 5,
   "metadata": {},
   "outputs": [
    {
     "name": "stdout",
     "output_type": "stream",
     "text": [
      "<class 'pandas.core.frame.DataFrame'>\n",
      "RangeIndex: 5000 entries, 0 to 4999\n",
      "Data columns (total 10 columns):\n",
      " #   Column           Non-Null Count  Dtype  \n",
      "---  ------           --------------  -----  \n",
      " 0   userID           5000 non-null   int64  \n",
      " 1   age              5000 non-null   int64  \n",
      " 2   sessions         5000 non-null   int64  \n",
      " 3   time_spent       5000 non-null   float64\n",
      " 4   pages_visited    5000 non-null   int64  \n",
      " 5   cart_items       5000 non-null   int64  \n",
      " 6   cart_value       5000 non-null   float64\n",
      " 7   checkout_status  5000 non-null   int64  \n",
      " 8   device           4900 non-null   object \n",
      " 9   location         4970 non-null   object \n",
      "dtypes: float64(2), int64(6), object(2)\n",
      "memory usage: 390.8+ KB\n"
     ]
    }
   ],
   "source": [
    "df.info()"
   ]
  },
  {
   "attachments": {},
   "cell_type": "markdown",
   "metadata": {},
   "source": [
    "Device: 5000-4900=100 missing data, 2% missing data.\n",
    "Location: 5000-4970=30 missing data, 0.6% missing data.\n",
    "Collectively 2.6% missing data, which indicates that the percentage of the missing data is small enough to be directly dropped."
   ]
  },
  {
   "cell_type": "code",
   "execution_count": 6,
   "metadata": {},
   "outputs": [],
   "source": [
    "df.dropna(inplace=True)"
   ]
  },
  {
   "cell_type": "code",
   "execution_count": 7,
   "metadata": {},
   "outputs": [
    {
     "name": "stdout",
     "output_type": "stream",
     "text": [
      "<class 'pandas.core.frame.DataFrame'>\n",
      "Index: 4871 entries, 0 to 4999\n",
      "Data columns (total 10 columns):\n",
      " #   Column           Non-Null Count  Dtype  \n",
      "---  ------           --------------  -----  \n",
      " 0   userID           4871 non-null   int64  \n",
      " 1   age              4871 non-null   int64  \n",
      " 2   sessions         4871 non-null   int64  \n",
      " 3   time_spent       4871 non-null   float64\n",
      " 4   pages_visited    4871 non-null   int64  \n",
      " 5   cart_items       4871 non-null   int64  \n",
      " 6   cart_value       4871 non-null   float64\n",
      " 7   checkout_status  4871 non-null   int64  \n",
      " 8   device           4871 non-null   object \n",
      " 9   location         4871 non-null   object \n",
      "dtypes: float64(2), int64(6), object(2)\n",
      "memory usage: 418.6+ KB\n"
     ]
    }
   ],
   "source": [
    "df.info()"
   ]
  },
  {
   "cell_type": "code",
   "execution_count": 8,
   "metadata": {},
   "outputs": [
    {
     "name": "stdout",
     "output_type": "stream",
     "text": [
      "False\n"
     ]
    }
   ],
   "source": [
    "check_na=df.isnull().any().any()\n",
    "if check_na:\n",
    "    print('True')\n",
    "else:\n",
    "    print('False')\n",
    "\n",
    "#No N/A data exists."
   ]
  },
  {
   "cell_type": "code",
   "execution_count": 9,
   "metadata": {},
   "outputs": [
    {
     "name": "stdout",
     "output_type": "stream",
     "text": [
      "False\n"
     ]
    }
   ],
   "source": [
    "check_dp=df.duplicated().any().any()\n",
    "if check_dp:\n",
    "    print('True')\n",
    "else:\n",
    "    print('False')\n",
    "\n",
    "#Duplicates checked.\n"
   ]
  },
  {
   "cell_type": "code",
   "execution_count": 10,
   "metadata": {},
   "outputs": [
    {
     "data": {
      "text/html": [
       "<div>\n",
       "<style scoped>\n",
       "    .dataframe tbody tr th:only-of-type {\n",
       "        vertical-align: middle;\n",
       "    }\n",
       "\n",
       "    .dataframe tbody tr th {\n",
       "        vertical-align: top;\n",
       "    }\n",
       "\n",
       "    .dataframe thead th {\n",
       "        text-align: right;\n",
       "    }\n",
       "</style>\n",
       "<table border=\"1\" class=\"dataframe\">\n",
       "  <thead>\n",
       "    <tr style=\"text-align: right;\">\n",
       "      <th></th>\n",
       "      <th>userID</th>\n",
       "      <th>age</th>\n",
       "      <th>sessions</th>\n",
       "      <th>time_spent</th>\n",
       "      <th>pages_visited</th>\n",
       "      <th>cart_items</th>\n",
       "      <th>cart_value</th>\n",
       "      <th>checkout_status</th>\n",
       "      <th>device</th>\n",
       "      <th>location</th>\n",
       "    </tr>\n",
       "  </thead>\n",
       "  <tbody>\n",
       "    <tr>\n",
       "      <th>count</th>\n",
       "      <td>4871.000000</td>\n",
       "      <td>4871.00000</td>\n",
       "      <td>4871.000000</td>\n",
       "      <td>4871.000000</td>\n",
       "      <td>4871.000000</td>\n",
       "      <td>4871.000000</td>\n",
       "      <td>4871.000000</td>\n",
       "      <td>4871.000000</td>\n",
       "      <td>4871</td>\n",
       "      <td>4871</td>\n",
       "    </tr>\n",
       "    <tr>\n",
       "      <th>unique</th>\n",
       "      <td>NaN</td>\n",
       "      <td>NaN</td>\n",
       "      <td>NaN</td>\n",
       "      <td>NaN</td>\n",
       "      <td>NaN</td>\n",
       "      <td>NaN</td>\n",
       "      <td>NaN</td>\n",
       "      <td>NaN</td>\n",
       "      <td>3</td>\n",
       "      <td>5</td>\n",
       "    </tr>\n",
       "    <tr>\n",
       "      <th>top</th>\n",
       "      <td>NaN</td>\n",
       "      <td>NaN</td>\n",
       "      <td>NaN</td>\n",
       "      <td>NaN</td>\n",
       "      <td>NaN</td>\n",
       "      <td>NaN</td>\n",
       "      <td>NaN</td>\n",
       "      <td>NaN</td>\n",
       "      <td>Desktop</td>\n",
       "      <td>Location 4</td>\n",
       "    </tr>\n",
       "    <tr>\n",
       "      <th>freq</th>\n",
       "      <td>NaN</td>\n",
       "      <td>NaN</td>\n",
       "      <td>NaN</td>\n",
       "      <td>NaN</td>\n",
       "      <td>NaN</td>\n",
       "      <td>NaN</td>\n",
       "      <td>NaN</td>\n",
       "      <td>NaN</td>\n",
       "      <td>2522</td>\n",
       "      <td>1028</td>\n",
       "    </tr>\n",
       "    <tr>\n",
       "      <th>mean</th>\n",
       "      <td>2503.251488</td>\n",
       "      <td>41.53295</td>\n",
       "      <td>5.023609</td>\n",
       "      <td>25.172038</td>\n",
       "      <td>5.777458</td>\n",
       "      <td>14.971258</td>\n",
       "      <td>149.459444</td>\n",
       "      <td>0.273455</td>\n",
       "      <td>NaN</td>\n",
       "      <td>NaN</td>\n",
       "    </tr>\n",
       "    <tr>\n",
       "      <th>std</th>\n",
       "      <td>1445.707937</td>\n",
       "      <td>14.04452</td>\n",
       "      <td>2.589914</td>\n",
       "      <td>9.821864</td>\n",
       "      <td>2.566198</td>\n",
       "      <td>6.054916</td>\n",
       "      <td>68.811486</td>\n",
       "      <td>0.445778</td>\n",
       "      <td>NaN</td>\n",
       "      <td>NaN</td>\n",
       "    </tr>\n",
       "    <tr>\n",
       "      <th>min</th>\n",
       "      <td>1.000000</td>\n",
       "      <td>18.00000</td>\n",
       "      <td>1.000000</td>\n",
       "      <td>1.000000</td>\n",
       "      <td>1.000000</td>\n",
       "      <td>5.000000</td>\n",
       "      <td>20.410000</td>\n",
       "      <td>0.000000</td>\n",
       "      <td>NaN</td>\n",
       "      <td>NaN</td>\n",
       "    </tr>\n",
       "    <tr>\n",
       "      <th>25%</th>\n",
       "      <td>1251.500000</td>\n",
       "      <td>29.00000</td>\n",
       "      <td>3.000000</td>\n",
       "      <td>18.298029</td>\n",
       "      <td>4.000000</td>\n",
       "      <td>10.000000</td>\n",
       "      <td>92.415000</td>\n",
       "      <td>0.000000</td>\n",
       "      <td>NaN</td>\n",
       "      <td>NaN</td>\n",
       "    </tr>\n",
       "    <tr>\n",
       "      <th>50%</th>\n",
       "      <td>2505.000000</td>\n",
       "      <td>42.00000</td>\n",
       "      <td>5.000000</td>\n",
       "      <td>25.054759</td>\n",
       "      <td>6.000000</td>\n",
       "      <td>15.000000</td>\n",
       "      <td>143.020000</td>\n",
       "      <td>0.000000</td>\n",
       "      <td>NaN</td>\n",
       "      <td>NaN</td>\n",
       "    </tr>\n",
       "    <tr>\n",
       "      <th>75%</th>\n",
       "      <td>3760.500000</td>\n",
       "      <td>54.00000</td>\n",
       "      <td>7.000000</td>\n",
       "      <td>31.991099</td>\n",
       "      <td>8.000000</td>\n",
       "      <td>20.000000</td>\n",
       "      <td>198.550000</td>\n",
       "      <td>1.000000</td>\n",
       "      <td>NaN</td>\n",
       "      <td>NaN</td>\n",
       "    </tr>\n",
       "    <tr>\n",
       "      <th>max</th>\n",
       "      <td>5000.000000</td>\n",
       "      <td>65.00000</td>\n",
       "      <td>9.000000</td>\n",
       "      <td>90.000000</td>\n",
       "      <td>12.000000</td>\n",
       "      <td>25.000000</td>\n",
       "      <td>427.400000</td>\n",
       "      <td>1.000000</td>\n",
       "      <td>NaN</td>\n",
       "      <td>NaN</td>\n",
       "    </tr>\n",
       "  </tbody>\n",
       "</table>\n",
       "</div>"
      ],
      "text/plain": [
       "             userID         age     sessions   time_spent  pages_visited   \n",
       "count   4871.000000  4871.00000  4871.000000  4871.000000    4871.000000  \\\n",
       "unique          NaN         NaN          NaN          NaN            NaN   \n",
       "top             NaN         NaN          NaN          NaN            NaN   \n",
       "freq            NaN         NaN          NaN          NaN            NaN   \n",
       "mean    2503.251488    41.53295     5.023609    25.172038       5.777458   \n",
       "std     1445.707937    14.04452     2.589914     9.821864       2.566198   \n",
       "min        1.000000    18.00000     1.000000     1.000000       1.000000   \n",
       "25%     1251.500000    29.00000     3.000000    18.298029       4.000000   \n",
       "50%     2505.000000    42.00000     5.000000    25.054759       6.000000   \n",
       "75%     3760.500000    54.00000     7.000000    31.991099       8.000000   \n",
       "max     5000.000000    65.00000     9.000000    90.000000      12.000000   \n",
       "\n",
       "         cart_items   cart_value  checkout_status   device    location  \n",
       "count   4871.000000  4871.000000      4871.000000     4871        4871  \n",
       "unique          NaN          NaN              NaN        3           5  \n",
       "top             NaN          NaN              NaN  Desktop  Location 4  \n",
       "freq            NaN          NaN              NaN     2522        1028  \n",
       "mean      14.971258   149.459444         0.273455      NaN         NaN  \n",
       "std        6.054916    68.811486         0.445778      NaN         NaN  \n",
       "min        5.000000    20.410000         0.000000      NaN         NaN  \n",
       "25%       10.000000    92.415000         0.000000      NaN         NaN  \n",
       "50%       15.000000   143.020000         0.000000      NaN         NaN  \n",
       "75%       20.000000   198.550000         1.000000      NaN         NaN  \n",
       "max       25.000000   427.400000         1.000000      NaN         NaN  "
      ]
     },
     "execution_count": 10,
     "metadata": {},
     "output_type": "execute_result"
    }
   ],
   "source": [
    "df.describe(include='all')"
   ]
  },
  {
   "attachments": {},
   "cell_type": "markdown",
   "metadata": {},
   "source": [
    "Age: Ranging from 18-65, seems normal values, with the mean of 41 years old.\n",
    "Check out status: Ranging form 0 to 1, which seems normal. The median is 0 but mean is 1, which shows a positive skew.\n",
    "Device: The most frequent deivice is desktop with the frequency of 2522.\n",
    "Location: The most popular location is location 5, with the frequency of 1028."
   ]
  },
  {
   "cell_type": "code",
   "execution_count": 11,
   "metadata": {},
   "outputs": [
    {
     "name": "stdout",
     "output_type": "stream",
     "text": [
      "['Desktop' 'Tablet' 'Mobile']\n"
     ]
    }
   ],
   "source": [
    "device_types = df['device'].unique()\n",
    "print(device_types)\n",
    "# Device names checked，which is free of errors."
   ]
  },
  {
   "cell_type": "code",
   "execution_count": 12,
   "metadata": {},
   "outputs": [
    {
     "name": "stdout",
     "output_type": "stream",
     "text": [
      "['Location 1' 'Location 3' 'Location 4' 'Location 2' 'Location 5']\n"
     ]
    }
   ],
   "source": [
    "location_types = df['location'].unique()\n",
    "print(location_types)\n",
    "# Location names checked, which is free of errors."
   ]
  },
  {
   "cell_type": "code",
   "execution_count": 13,
   "metadata": {},
   "outputs": [
    {
     "data": {
      "text/plain": [
       "<Axes: >"
      ]
     },
     "execution_count": 13,
     "metadata": {},
     "output_type": "execute_result"
    },
    {
     "data": {
      "image/png": "[encoded data removed]",
      "text/plain": [
       "<Figure size 640x480 with 1 Axes>"
      ]
     },
     "metadata": {},
     "output_type": "display_data"
    }
   ],
   "source": [
    "#Check outliers of time_spent\n",
    "sns.boxplot(df['time_spent'],color='#F0A6B3')\n",
    "#The graph shows an outlier that is above 80, which seems abnormal."
   ]
  },
  {
   "cell_type": "code",
   "execution_count": 14,
   "metadata": {},
   "outputs": [
    {
     "data": {
      "text/plain": [
       "284     90.0\n",
       "2833    90.0\n",
       "3957    90.0\n",
       "2494    90.0\n",
       "2190    45.0\n",
       "2195    45.0\n",
       "3991    45.0\n",
       "4680    45.0\n",
       "3992    45.0\n",
       "3997    45.0\n",
       "Name: time_spent, dtype: float64"
      ]
     },
     "execution_count": 14,
     "metadata": {},
     "output_type": "execute_result"
    }
   ],
   "source": [
    "# Find the highest entries\n",
    "df['time_spent'].sort_values(ascending=False).head(10)"
   ]
  },
  {
   "cell_type": "code",
   "execution_count": 15,
   "metadata": {},
   "outputs": [],
   "source": [
    "df.drop([284,2833,3957,2494], axis=0, inplace=True)\n",
    "#Outliers dropped."
   ]
  },
  {
   "cell_type": "code",
   "execution_count": 16,
   "metadata": {},
   "outputs": [
    {
     "data": {
      "text/plain": [
       "<Axes: >"
      ]
     },
     "execution_count": 16,
     "metadata": {},
     "output_type": "execute_result"
    },
    {
     "data": {
      "image/png": "[encoded data removed]",
      "text/plain": [
       "<Figure size 640x480 with 1 Axes>"
      ]
     },
     "metadata": {},
     "output_type": "display_data"
    }
   ],
   "source": [
    "#Check outliers of time_spent\n",
    "sns.boxplot(df['pages_visited'],color='#F0A6B3')\n",
    "#The graph seems normal."
   ]
  },
  {
   "cell_type": "code",
   "execution_count": 17,
   "metadata": {},
   "outputs": [
    {
     "data": {
      "text/plain": [
       "<Axes: >"
      ]
     },
     "execution_count": 17,
     "metadata": {},
     "output_type": "execute_result"
    },
    {
     "data": {
      "image/png": "[encoded data removed]",
      "text/plain": [
       "<Figure size 640x480 with 1 Axes>"
      ]
     },
     "metadata": {},
     "output_type": "display_data"
    }
   ],
   "source": [
    "#Check outliers of time_spent\n",
    "sns.boxplot(df['cart_items'],color='#F0A6B3')\n",
    "#The graph seems normal."
   ]
  },
  {
   "cell_type": "code",
   "execution_count": 18,
   "metadata": {},
   "outputs": [
    {
     "data": {
      "text/plain": [
       "<Axes: >"
      ]
     },
     "execution_count": 18,
     "metadata": {},
     "output_type": "execute_result"
    },
    {
     "data": {
      "image/png": "[encoded data removed]",
      "text/plain": [
       "<Figure size 640x480 with 1 Axes>"
      ]
     },
     "metadata": {},
     "output_type": "display_data"
    }
   ],
   "source": [
    "#Check outliers of time_spent\n",
    "sns.boxplot(df['cart_value'],color='#F0A6B3')\n",
    "#The graph seems to have some outliers, needed to further check the amount of outliers."
   ]
  },
  {
   "cell_type": "code",
   "execution_count": 19,
   "metadata": {},
   "outputs": [
    {
     "data": {
      "text/plain": [
       "14"
      ]
     },
     "execution_count": 19,
     "metadata": {},
     "output_type": "execute_result"
    }
   ],
   "source": [
    "count = len(df[df['cart_value'] > 350])\n",
    "count\n",
    "# 14 outliers have been showed here, which may not influence the datasets if deleting them."
   ]
  },
  {
   "cell_type": "code",
   "execution_count": 20,
   "metadata": {},
   "outputs": [],
   "source": [
    "df = df[df['cart_value'] <= 350]\n",
    "# Outlier deleted."
   ]
  },
  {
   "cell_type": "code",
   "execution_count": 21,
   "metadata": {},
   "outputs": [
    {
     "name": "stdout",
     "output_type": "stream",
     "text": [
      "<class 'pandas.core.frame.DataFrame'>\n",
      "Index: 4853 entries, 0 to 4999\n",
      "Data columns (total 10 columns):\n",
      " #   Column           Non-Null Count  Dtype  \n",
      "---  ------           --------------  -----  \n",
      " 0   userID           4853 non-null   int64  \n",
      " 1   age              4853 non-null   int64  \n",
      " 2   sessions         4853 non-null   int64  \n",
      " 3   time_spent       4853 non-null   float64\n",
      " 4   pages_visited    4853 non-null   int64  \n",
      " 5   cart_items       4853 non-null   int64  \n",
      " 6   cart_value       4853 non-null   float64\n",
      " 7   checkout_status  4853 non-null   int64  \n",
      " 8   device           4853 non-null   object \n",
      " 9   location         4853 non-null   object \n",
      "dtypes: float64(2), int64(6), object(2)\n",
      "memory usage: 417.1+ KB\n"
     ]
    }
   ],
   "source": [
    "df.info()\n",
    "# Data cleaned. 97.06% of data remained, which is good."
   ]
  },
  {
   "cell_type": "code",
   "execution_count": 22,
   "metadata": {},
   "outputs": [
    {
     "data": {
      "text/html": [
       "<div>\n",
       "<style scoped>\n",
       "    .dataframe tbody tr th:only-of-type {\n",
       "        vertical-align: middle;\n",
       "    }\n",
       "\n",
       "    .dataframe tbody tr th {\n",
       "        vertical-align: top;\n",
       "    }\n",
       "\n",
       "    .dataframe thead th {\n",
       "        text-align: right;\n",
       "    }\n",
       "</style>\n",
       "<table border=\"1\" class=\"dataframe\">\n",
       "  <thead>\n",
       "    <tr style=\"text-align: right;\">\n",
       "      <th></th>\n",
       "      <th>userID</th>\n",
       "      <th>age</th>\n",
       "      <th>sessions</th>\n",
       "      <th>time_spent</th>\n",
       "      <th>pages_visited</th>\n",
       "      <th>cart_items</th>\n",
       "      <th>cart_value</th>\n",
       "      <th>checkout_status</th>\n",
       "      <th>device</th>\n",
       "      <th>location</th>\n",
       "    </tr>\n",
       "  </thead>\n",
       "  <tbody>\n",
       "    <tr>\n",
       "      <th>count</th>\n",
       "      <td>4853.000000</td>\n",
       "      <td>4853.00000</td>\n",
       "      <td>4853.000000</td>\n",
       "      <td>4853.000000</td>\n",
       "      <td>4853.000000</td>\n",
       "      <td>4853.000000</td>\n",
       "      <td>4853.000000</td>\n",
       "      <td>4853.000000</td>\n",
       "      <td>4853</td>\n",
       "      <td>4853</td>\n",
       "    </tr>\n",
       "    <tr>\n",
       "      <th>unique</th>\n",
       "      <td>NaN</td>\n",
       "      <td>NaN</td>\n",
       "      <td>NaN</td>\n",
       "      <td>NaN</td>\n",
       "      <td>NaN</td>\n",
       "      <td>NaN</td>\n",
       "      <td>NaN</td>\n",
       "      <td>NaN</td>\n",
       "      <td>3</td>\n",
       "      <td>5</td>\n",
       "    </tr>\n",
       "    <tr>\n",
       "      <th>top</th>\n",
       "      <td>NaN</td>\n",
       "      <td>NaN</td>\n",
       "      <td>NaN</td>\n",
       "      <td>NaN</td>\n",
       "      <td>NaN</td>\n",
       "      <td>NaN</td>\n",
       "      <td>NaN</td>\n",
       "      <td>NaN</td>\n",
       "      <td>Desktop</td>\n",
       "      <td>Location 4</td>\n",
       "    </tr>\n",
       "    <tr>\n",
       "      <th>freq</th>\n",
       "      <td>NaN</td>\n",
       "      <td>NaN</td>\n",
       "      <td>NaN</td>\n",
       "      <td>NaN</td>\n",
       "      <td>NaN</td>\n",
       "      <td>NaN</td>\n",
       "      <td>NaN</td>\n",
       "      <td>NaN</td>\n",
       "      <td>2512</td>\n",
       "      <td>1024</td>\n",
       "    </tr>\n",
       "    <tr>\n",
       "      <th>mean</th>\n",
       "      <td>2505.919843</td>\n",
       "      <td>41.55883</td>\n",
       "      <td>5.024109</td>\n",
       "      <td>25.123864</td>\n",
       "      <td>5.773336</td>\n",
       "      <td>14.943746</td>\n",
       "      <td>148.806744</td>\n",
       "      <td>0.274469</td>\n",
       "      <td>NaN</td>\n",
       "      <td>NaN</td>\n",
       "    </tr>\n",
       "    <tr>\n",
       "      <th>std</th>\n",
       "      <td>1445.416203</td>\n",
       "      <td>14.04737</td>\n",
       "      <td>2.591133</td>\n",
       "      <td>9.651918</td>\n",
       "      <td>2.562438</td>\n",
       "      <td>6.042370</td>\n",
       "      <td>67.842873</td>\n",
       "      <td>0.446292</td>\n",
       "      <td>NaN</td>\n",
       "      <td>NaN</td>\n",
       "    </tr>\n",
       "    <tr>\n",
       "      <th>min</th>\n",
       "      <td>1.000000</td>\n",
       "      <td>18.00000</td>\n",
       "      <td>1.000000</td>\n",
       "      <td>1.000000</td>\n",
       "      <td>1.000000</td>\n",
       "      <td>5.000000</td>\n",
       "      <td>20.410000</td>\n",
       "      <td>0.000000</td>\n",
       "      <td>NaN</td>\n",
       "      <td>NaN</td>\n",
       "    </tr>\n",
       "    <tr>\n",
       "      <th>25%</th>\n",
       "      <td>1255.000000</td>\n",
       "      <td>29.00000</td>\n",
       "      <td>3.000000</td>\n",
       "      <td>18.290950</td>\n",
       "      <td>4.000000</td>\n",
       "      <td>10.000000</td>\n",
       "      <td>92.370000</td>\n",
       "      <td>0.000000</td>\n",
       "      <td>NaN</td>\n",
       "      <td>NaN</td>\n",
       "    </tr>\n",
       "    <tr>\n",
       "      <th>50%</th>\n",
       "      <td>2507.000000</td>\n",
       "      <td>42.00000</td>\n",
       "      <td>5.000000</td>\n",
       "      <td>25.053720</td>\n",
       "      <td>6.000000</td>\n",
       "      <td>15.000000</td>\n",
       "      <td>142.690000</td>\n",
       "      <td>0.000000</td>\n",
       "      <td>NaN</td>\n",
       "      <td>NaN</td>\n",
       "    </tr>\n",
       "    <tr>\n",
       "      <th>75%</th>\n",
       "      <td>3763.000000</td>\n",
       "      <td>54.00000</td>\n",
       "      <td>7.000000</td>\n",
       "      <td>31.981274</td>\n",
       "      <td>8.000000</td>\n",
       "      <td>20.000000</td>\n",
       "      <td>197.880000</td>\n",
       "      <td>1.000000</td>\n",
       "      <td>NaN</td>\n",
       "      <td>NaN</td>\n",
       "    </tr>\n",
       "    <tr>\n",
       "      <th>max</th>\n",
       "      <td>5000.000000</td>\n",
       "      <td>65.00000</td>\n",
       "      <td>9.000000</td>\n",
       "      <td>45.000000</td>\n",
       "      <td>12.000000</td>\n",
       "      <td>25.000000</td>\n",
       "      <td>346.810000</td>\n",
       "      <td>1.000000</td>\n",
       "      <td>NaN</td>\n",
       "      <td>NaN</td>\n",
       "    </tr>\n",
       "  </tbody>\n",
       "</table>\n",
       "</div>"
      ],
      "text/plain": [
       "             userID         age     sessions   time_spent  pages_visited   \n",
       "count   4853.000000  4853.00000  4853.000000  4853.000000    4853.000000  \\\n",
       "unique          NaN         NaN          NaN          NaN            NaN   \n",
       "top             NaN         NaN          NaN          NaN            NaN   \n",
       "freq            NaN         NaN          NaN          NaN            NaN   \n",
       "mean    2505.919843    41.55883     5.024109    25.123864       5.773336   \n",
       "std     1445.416203    14.04737     2.591133     9.651918       2.562438   \n",
       "min        1.000000    18.00000     1.000000     1.000000       1.000000   \n",
       "25%     1255.000000    29.00000     3.000000    18.290950       4.000000   \n",
       "50%     2507.000000    42.00000     5.000000    25.053720       6.000000   \n",
       "75%     3763.000000    54.00000     7.000000    31.981274       8.000000   \n",
       "max     5000.000000    65.00000     9.000000    45.000000      12.000000   \n",
       "\n",
       "         cart_items   cart_value  checkout_status   device    location  \n",
       "count   4853.000000  4853.000000      4853.000000     4853        4853  \n",
       "unique          NaN          NaN              NaN        3           5  \n",
       "top             NaN          NaN              NaN  Desktop  Location 4  \n",
       "freq            NaN          NaN              NaN     2512        1024  \n",
       "mean      14.943746   148.806744         0.274469      NaN         NaN  \n",
       "std        6.042370    67.842873         0.446292      NaN         NaN  \n",
       "min        5.000000    20.410000         0.000000      NaN         NaN  \n",
       "25%       10.000000    92.370000         0.000000      NaN         NaN  \n",
       "50%       15.000000   142.690000         0.000000      NaN         NaN  \n",
       "75%       20.000000   197.880000         1.000000      NaN         NaN  \n",
       "max       25.000000   346.810000         1.000000      NaN         NaN  "
      ]
     },
     "execution_count": 22,
     "metadata": {},
     "output_type": "execute_result"
    }
   ],
   "source": [
    "df.describe(include='all')"
   ]
  },
  {
   "attachments": {},
   "cell_type": "markdown",
   "metadata": {},
   "source": [
    "Question 2:\n",
    "My data cleaning process includes checking and dropping null values, handling outliers, and verifying the accuracy of categorical data. Missing data have been deleted due to their small percentage, which will not significantly impact the entire dataset. Outliers have also been removed due to their rarity. As a result, 97.06% of the data remained, which is ideal for analysis. Additionally, I compared the description table before and after the data cleaning process and observed subtle changes. This confirms that deleting null data and outliers during the cleaning process was safe and did not affect the integrity of the data for analysis."
   ]
  },
  {
   "cell_type": "code",
   "execution_count": 23,
   "metadata": {},
   "outputs": [],
   "source": [
    "#Question 1:\n",
    "from scipy.stats import pearsonr"
   ]
  },
  {
   "cell_type": "code",
   "execution_count": 24,
   "metadata": {},
   "outputs": [],
   "source": [
    "checkout_status = df['checkout_status']\n",
    "time_spent = df['time_spent']\n",
    "pages_visited = df['pages_visited']\n",
    "cart_items = df['cart_items']\n",
    "cart_value = df['cart_value']\n",
    "age = df['age']"
   ]
  },
  {
   "cell_type": "code",
   "execution_count": 25,
   "metadata": {},
   "outputs": [],
   "source": [
    "corr_time_spent = pearsonr(checkout_status, time_spent)[0]\n",
    "corr_pages_visited = pearsonr(checkout_status, pages_visited)[0]\n",
    "corr_cart_items = pearsonr(checkout_status, cart_items)[0]\n",
    "corr_cart_value = pearsonr(checkout_status, cart_value)[0]\n",
    "corr_age = pearsonr(checkout_status, age)[0]"
   ]
  },
  {
   "cell_type": "code",
   "execution_count": 26,
   "metadata": {},
   "outputs": [],
   "source": [
    "p_value_time_spent = pearsonr(checkout_status, time_spent)[1]\n",
    "p_value_pages_visited = pearsonr(checkout_status, pages_visited)[1]\n",
    "p_value_cart_items = pearsonr(checkout_status, cart_items)[1]\n",
    "p_value_cart_value = pearsonr(checkout_status, cart_value)[1]\n",
    "p_value_age = pearsonr(checkout_status, age)[1]"
   ]
  },
  {
   "cell_type": "code",
   "execution_count": 27,
   "metadata": {},
   "outputs": [
    {
     "name": "stdout",
     "output_type": "stream",
     "text": [
      "Correlation - Time Spent: 0.3947680221582001\n",
      "P-value - Time Spent: 1.0074415995349688e-180\n",
      "Correlation - Pages Visited: 0.36403201920226175\n",
      "P-value - Pages Visited: 5.577783736219361e-152\n",
      "Correlation - Cart Items: -0.0862160904193364\n",
      "P-value - Cart Items: 1.790346463682213e-09\n",
      "Correlation - Cart Value: -0.07521799156704123\n",
      "P-value - Cart Value: 1.5541197021019357e-07\n",
      "Correlation - Age: -0.014180954995990187\n",
      "P-value - Age: 0.32330458932366624\n"
     ]
    }
   ],
   "source": [
    "print(\"Correlation - Time Spent:\", corr_time_spent)\n",
    "print(\"P-value - Time Spent:\", p_value_time_spent)\n",
    "\n",
    "print(\"Correlation - Pages Visited:\", corr_pages_visited)\n",
    "print(\"P-value - Pages Visited:\", p_value_pages_visited)\n",
    "\n",
    "print(\"Correlation - Cart Items:\", corr_cart_items)\n",
    "print(\"P-value - Cart Items:\", p_value_cart_items)\n",
    "\n",
    "print(\"Correlation - Cart Value:\", corr_cart_value)\n",
    "print(\"P-value - Cart Value:\", p_value_cart_value)\n",
    "\n",
    "print(\"Correlation - Age:\", corr_age)\n",
    "print(\"P-value - Age:\", p_value_age)"
   ]
  },
  {
   "attachments": {},
   "cell_type": "markdown",
   "metadata": {},
   "source": [
    "Question 1:\n",
    "\n",
    "Time Spent:\n",
    "Correlation: 0.3948\n",
    "P-value: 1.0074e-180\n",
    "The positive correlation coefficient (0.3948) suggests that there is a moderate positive relationship between the time spent by users and their likelihood of completing checkouts. The very low p-value (1.0074e-180) indicates that this correlation is statistically significant.\n",
    "\n",
    "Pages Visited:\n",
    "Correlation: 0.3640\n",
    "P-value: 5.5778e-152\n",
    "Similar to time spent, the positive correlation coefficient (0.3640) indicates a moderate positive relationship between the number of pages visited and checkout completion. The extremely low p-value (5.5778e-152) suggests that this correlation is statistically significant.\n",
    "\n",
    "Cart Items:\n",
    "Correlation: -0.0862\n",
    "P-value: 1.7903e-09\n",
    "The negative correlation coefficient (-0.0862) suggests a weak negative relationship between the number of items in the cart and checkout completion. The p-value (1.7903e-09) indicates that this correlation is statistically significant, but the effect size is relatively small.\n",
    "\n",
    "Cart Value:\n",
    "Correlation: -0.0752\n",
    "P-value: 1.5541e-07\n",
    "Similarly to cart items, the negative correlation coefficient (-0.0752) indicates a weak negative relationship between the total value of items in the cart and checkout completion. The p-value (1.5541e-07) suggests that this correlation is statistically significant, but the effect size is relatively small.\n",
    "\n",
    "Age:\n",
    "Correlation: -0.0142\n",
    "P-value: 0.3233\n",
    "The correlation coefficient is close to zero, suggesting a very weak or negligible relationship between age and checkout completion. Additionally, the relatively high p-value indicates that this correlation is not statistically significant.\n",
    "\n",
    "In summary, users who spend more time on the website and visit more pages may be more likely to complete checkouts.\n",
    "The number of items in the cart and the total value of items have a negative relationship with checkout completion, suggesting that users with fewer items or lower cart values are more likely to complete checkouts. Age, on the other hand, does not seem to have a significant impact on checkout completion. \n",
    "\n",
    "However, correlation is not causation, therefore, we need to go deeper investigaton."
   ]
  },
  {
   "cell_type": "code",
   "execution_count": 159,
   "metadata": {},
   "outputs": [
    {
     "data": {
      "text/html": [
       "<div>\n",
       "<style scoped>\n",
       "    .dataframe tbody tr th:only-of-type {\n",
       "        vertical-align: middle;\n",
       "    }\n",
       "\n",
       "    .dataframe tbody tr th {\n",
       "        vertical-align: top;\n",
       "    }\n",
       "\n",
       "    .dataframe thead th {\n",
       "        text-align: right;\n",
       "    }\n",
       "</style>\n",
       "<table border=\"1\" class=\"dataframe\">\n",
       "  <thead>\n",
       "    <tr style=\"text-align: right;\">\n",
       "      <th></th>\n",
       "      <th>userID</th>\n",
       "      <th>age</th>\n",
       "      <th>sessions</th>\n",
       "      <th>time_spent</th>\n",
       "      <th>pages_visited</th>\n",
       "      <th>cart_items</th>\n",
       "      <th>cart_value</th>\n",
       "      <th>checkout_status</th>\n",
       "      <th>device</th>\n",
       "      <th>location</th>\n",
       "    </tr>\n",
       "  </thead>\n",
       "  <tbody>\n",
       "    <tr>\n",
       "      <th>0</th>\n",
       "      <td>1</td>\n",
       "      <td>62</td>\n",
       "      <td>3</td>\n",
       "      <td>13.295129</td>\n",
       "      <td>2</td>\n",
       "      <td>20</td>\n",
       "      <td>199.21</td>\n",
       "      <td>0</td>\n",
       "      <td>Desktop</td>\n",
       "      <td>Location 1</td>\n",
       "    </tr>\n",
       "    <tr>\n",
       "      <th>1</th>\n",
       "      <td>2</td>\n",
       "      <td>65</td>\n",
       "      <td>2</td>\n",
       "      <td>21.686405</td>\n",
       "      <td>3</td>\n",
       "      <td>21</td>\n",
       "      <td>294.82</td>\n",
       "      <td>0</td>\n",
       "      <td>Desktop</td>\n",
       "      <td>Location 3</td>\n",
       "    </tr>\n",
       "    <tr>\n",
       "      <th>2</th>\n",
       "      <td>3</td>\n",
       "      <td>18</td>\n",
       "      <td>7</td>\n",
       "      <td>17.135220</td>\n",
       "      <td>4</td>\n",
       "      <td>23</td>\n",
       "      <td>240.87</td>\n",
       "      <td>0</td>\n",
       "      <td>Desktop</td>\n",
       "      <td>Location 4</td>\n",
       "    </tr>\n",
       "    <tr>\n",
       "      <th>3</th>\n",
       "      <td>4</td>\n",
       "      <td>21</td>\n",
       "      <td>9</td>\n",
       "      <td>29.589311</td>\n",
       "      <td>8</td>\n",
       "      <td>16</td>\n",
       "      <td>183.78</td>\n",
       "      <td>1</td>\n",
       "      <td>Desktop</td>\n",
       "      <td>Location 2</td>\n",
       "    </tr>\n",
       "    <tr>\n",
       "      <th>4</th>\n",
       "      <td>5</td>\n",
       "      <td>21</td>\n",
       "      <td>3</td>\n",
       "      <td>25.948584</td>\n",
       "      <td>4</td>\n",
       "      <td>10</td>\n",
       "      <td>59.51</td>\n",
       "      <td>1</td>\n",
       "      <td>Tablet</td>\n",
       "      <td>Location 4</td>\n",
       "    </tr>\n",
       "    <tr>\n",
       "      <th>...</th>\n",
       "      <td>...</td>\n",
       "      <td>...</td>\n",
       "      <td>...</td>\n",
       "      <td>...</td>\n",
       "      <td>...</td>\n",
       "      <td>...</td>\n",
       "      <td>...</td>\n",
       "      <td>...</td>\n",
       "      <td>...</td>\n",
       "      <td>...</td>\n",
       "    </tr>\n",
       "    <tr>\n",
       "      <th>4995</th>\n",
       "      <td>4996</td>\n",
       "      <td>48</td>\n",
       "      <td>8</td>\n",
       "      <td>45.000000</td>\n",
       "      <td>11</td>\n",
       "      <td>25</td>\n",
       "      <td>278.92</td>\n",
       "      <td>0</td>\n",
       "      <td>Tablet</td>\n",
       "      <td>Location 5</td>\n",
       "    </tr>\n",
       "    <tr>\n",
       "      <th>4996</th>\n",
       "      <td>4997</td>\n",
       "      <td>31</td>\n",
       "      <td>4</td>\n",
       "      <td>44.700747</td>\n",
       "      <td>9</td>\n",
       "      <td>12</td>\n",
       "      <td>78.97</td>\n",
       "      <td>0</td>\n",
       "      <td>Tablet</td>\n",
       "      <td>Location 2</td>\n",
       "    </tr>\n",
       "    <tr>\n",
       "      <th>4997</th>\n",
       "      <td>4998</td>\n",
       "      <td>34</td>\n",
       "      <td>5</td>\n",
       "      <td>27.146624</td>\n",
       "      <td>7</td>\n",
       "      <td>19</td>\n",
       "      <td>139.42</td>\n",
       "      <td>1</td>\n",
       "      <td>Desktop</td>\n",
       "      <td>Location 4</td>\n",
       "    </tr>\n",
       "    <tr>\n",
       "      <th>4998</th>\n",
       "      <td>4999</td>\n",
       "      <td>58</td>\n",
       "      <td>1</td>\n",
       "      <td>45.000000</td>\n",
       "      <td>11</td>\n",
       "      <td>24</td>\n",
       "      <td>203.42</td>\n",
       "      <td>0</td>\n",
       "      <td>Desktop</td>\n",
       "      <td>Location 5</td>\n",
       "    </tr>\n",
       "    <tr>\n",
       "      <th>4999</th>\n",
       "      <td>5000</td>\n",
       "      <td>63</td>\n",
       "      <td>2</td>\n",
       "      <td>28.484907</td>\n",
       "      <td>7</td>\n",
       "      <td>10</td>\n",
       "      <td>84.15</td>\n",
       "      <td>1</td>\n",
       "      <td>Tablet</td>\n",
       "      <td>Location 3</td>\n",
       "    </tr>\n",
       "  </tbody>\n",
       "</table>\n",
       "<p>4853 rows × 10 columns</p>\n",
       "</div>"
      ],
      "text/plain": [
       "      userID  age  sessions  time_spent  pages_visited  cart_items   \n",
       "0          1   62         3   13.295129              2          20  \\\n",
       "1          2   65         2   21.686405              3          21   \n",
       "2          3   18         7   17.135220              4          23   \n",
       "3          4   21         9   29.589311              8          16   \n",
       "4          5   21         3   25.948584              4          10   \n",
       "...      ...  ...       ...         ...            ...         ...   \n",
       "4995    4996   48         8   45.000000             11          25   \n",
       "4996    4997   31         4   44.700747              9          12   \n",
       "4997    4998   34         5   27.146624              7          19   \n",
       "4998    4999   58         1   45.000000             11          24   \n",
       "4999    5000   63         2   28.484907              7          10   \n",
       "\n",
       "      cart_value  checkout_status   device    location  \n",
       "0         199.21                0  Desktop  Location 1  \n",
       "1         294.82                0  Desktop  Location 3  \n",
       "2         240.87                0  Desktop  Location 4  \n",
       "3         183.78                1  Desktop  Location 2  \n",
       "4          59.51                1   Tablet  Location 4  \n",
       "...          ...              ...      ...         ...  \n",
       "4995      278.92                0   Tablet  Location 5  \n",
       "4996       78.97                0   Tablet  Location 2  \n",
       "4997      139.42                1  Desktop  Location 4  \n",
       "4998      203.42                0  Desktop  Location 5  \n",
       "4999       84.15                1   Tablet  Location 3  \n",
       "\n",
       "[4853 rows x 10 columns]"
      ]
     },
     "execution_count": 159,
     "metadata": {},
     "output_type": "execute_result"
    }
   ],
   "source": [
    "df"
   ]
  },
  {
   "cell_type": "code",
   "execution_count": 43,
   "metadata": {},
   "outputs": [],
   "source": [
    "# Introduce a new attribut called time_spent_per_page\n",
    "df['time_spent_per_page'] = df['time_spent'] / df['pages_visited']"
   ]
  },
  {
   "cell_type": "code",
   "execution_count": 51,
   "metadata": {},
   "outputs": [
    {
     "data": {
      "text/plain": [
       "<Axes: xlabel='time_spent_per_page', ylabel='checkout_status'>"
      ]
     },
     "execution_count": 51,
     "metadata": {},
     "output_type": "execute_result"
    },
    {
     "data": {
      "image/png": "[encoded data removed]",
      "text/plain": [
       "<Figure size 640x480 with 1 Axes>"
      ]
     },
     "metadata": {},
     "output_type": "display_data"
    }
   ],
   "source": [
    "#Plot to see the relationship of time spent per page and checkout status.\n",
    "sns.set(style=\"whitegrid\")\n",
    "sns.scatterplot(data=df,x='time_spent_per_page',y='checkout_status', color='#F0A6B3')"
   ]
  },
  {
   "cell_type": "code",
   "execution_count": 63,
   "metadata": {},
   "outputs": [
    {
     "name": "stdout",
     "output_type": "stream",
     "text": [
      "time spent per page (checkout): count    1332.000000\n",
      "mean        4.408593\n",
      "std         0.730114\n",
      "min         2.652006\n",
      "25%         3.932082\n",
      "50%         4.303844\n",
      "75%         4.771786\n",
      "max        12.795941\n",
      "Name: time_spent_per_page, dtype: float64\n"
     ]
    }
   ],
   "source": [
    "checkout = df[df['checkout_status'] == 1]\n",
    "time_spent_per_page_checkout = checkout['time_spent_per_page'].describe()\n",
    "\n",
    "print(\"time spent per page (checkout):\", time_spent_per_page_checkout)"
   ]
  },
  {
   "cell_type": "code",
   "execution_count": 62,
   "metadata": {},
   "outputs": [
    {
     "name": "stdout",
     "output_type": "stream",
     "text": [
      "time spent per page (non-checkout): count    3521.000000\n",
      "mean        4.811084\n",
      "std         1.710011\n",
      "min         1.000000\n",
      "25%         3.863468\n",
      "50%         4.417436\n",
      "75%         5.166980\n",
      "max        18.124745\n",
      "Name: time_spent_per_page, dtype: float64\n"
     ]
    }
   ],
   "source": [
    "non_checkout = df[df['checkout_status'] == 0]\n",
    "time_spent_per_page_non_checkout = non_checkout['time_spent_per_page'].describe()\n",
    "\n",
    "print(\"time spent per page (non-checkout):\", time_spent_per_page_non_checkout)"
   ]
  },
  {
   "cell_type": "code",
   "execution_count": null,
   "metadata": {},
   "outputs": [],
   "source": [
    "p_value_time_spent = pearsonr(checkout_status, )[1]\n",
    "corr_time_spent = pearsonr(checkout_status, time_spent)[0]\n",
    "print(\"Correlation - Age:\", corr_age)\n",
    "print(\"P-value - Age:\", p_value_age)"
   ]
  },
  {
   "attachments": {},
   "cell_type": "markdown",
   "metadata": {},
   "source": [
    "The mean and median of time spent per page of non checkout status and checkout status has similar number (around 4-5 minutes) , which indicates customers will likely to checkout in 4-5 minutes. Also, the 75% quantile number and max number shows larger in non checkout customers. This roughly recommends to improve and simplify the user experience in shopping such as implementing one-click purchase."
   ]
  },
  {
   "cell_type": "code",
   "execution_count": 71,
   "metadata": {},
   "outputs": [
    {
     "name": "stdout",
     "output_type": "stream",
     "text": [
      "cart value (checkout): count    1332.000000\n",
      "mean      140.510871\n",
      "std        47.683980\n",
      "min        43.220000\n",
      "25%       102.810000\n",
      "50%       135.830000\n",
      "75%       174.365000\n",
      "max       313.760000\n",
      "Name: cart_value, dtype: float64\n"
     ]
    }
   ],
   "source": [
    "# Check the cart value and the checkout status.\n",
    "checkout_c = df[df['checkout_status'] == 1]\n",
    "cart_value_checkout = checkout['cart_value'].describe()\n",
    "\n",
    "print(\"cart value (checkout):\", cart_value_checkout)"
   ]
  },
  {
   "cell_type": "code",
   "execution_count": 73,
   "metadata": {},
   "outputs": [
    {
     "name": "stdout",
     "output_type": "stream",
     "text": [
      "cart value (non checkout): count    3521.000000\n",
      "mean      151.945087\n",
      "std        73.815183\n",
      "min        20.410000\n",
      "25%        85.550000\n",
      "50%       146.810000\n",
      "75%       209.410000\n",
      "max       346.810000\n",
      "Name: cart_value, dtype: float64\n"
     ]
    }
   ],
   "source": [
    "# Check the cart value and the checkout status.\n",
    "non_checkout_c = df[df['checkout_status'] == 0]\n",
    "cart_value_non_checkout = non_checkout['cart_value'].describe()\n",
    "\n",
    "print(\"cart value (non checkout):\", cart_value_non_checkout)"
   ]
  },
  {
   "attachments": {},
   "cell_type": "markdown",
   "metadata": {},
   "source": [
    "This clearly shows a higher cart value may lead to less checkout rate, which indicating a lower checkout value are more easily accepted by customers to checkkout. This also can be recommend ffer Discounts or Promotions. Implement targeted discounts or promotions to incentivize customers to complete their purchase. This can include percentage discounts, buy-one-get-one (BOGO) offers, free shipping, or limited-time promotions. Clearly communicate the discounts on the website, in emails, or through targeted advertising to encourage customers to take advantage of the lowered cart value."
   ]
  },
  {
   "cell_type": "code",
   "execution_count": 83,
   "metadata": {},
   "outputs": [
    {
     "data": {
      "text/plain": [
       "<Axes: xlabel='location', ylabel='Count'>"
      ]
     },
     "execution_count": 83,
     "metadata": {},
     "output_type": "execute_result"
    },
    {
     "data": {
      "image/png": "[encoded data removed]",
      "text/plain": [
       "<Figure size 640x480 with 1 Axes>"
      ]
     },
     "metadata": {},
     "output_type": "display_data"
    }
   ],
   "source": [
    "# Check if the location has relationship with the checkout rate.\n",
    "sns.set(style=\"whitegrid\")\n",
    "sns.histplot(data=df, x='location', hue='checkout_status', color='#F0A6B3', edgecolor='white')\n",
    "\n"
   ]
  }
 ],
 "metadata": {
  "kernelspec": {
   "display_name": "Python 3",
   "language": "python",
   "name": "python3"
  },
  "language_info": {
   "codemirror_mode": {
    "name": "ipython",
    "version": 3
   },
   "file_extension": ".py",
   "mimetype": "text/x-python",
   "name": "python",
   "nbconvert_exporter": "python",
   "pygments_lexer": "ipython3",
   "version": "3.9.6"
  },
  "orig_nbformat": 4
 },
 "nbformat": 4,
 "nbformat_minor": 2
}
